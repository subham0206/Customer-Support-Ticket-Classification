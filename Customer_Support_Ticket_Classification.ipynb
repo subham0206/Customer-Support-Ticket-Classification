{
  "nbformat": 4,
  "nbformat_minor": 0,
  "metadata": {
    "colab": {
      "provenance": []
    },
    "kernelspec": {
      "name": "python3",
      "display_name": "Python 3"
    },
    "language_info": {
      "name": "python"
    }
  },
  "cells": [
    {
      "cell_type": "markdown",
      "source": [
        "# **Problem Statement:**\n",
        "The contact center analytics team has been requested to develop insights as to what is driving tickets being logged into their contact centre as they cannot trust the ‘Ticket Type’ and ‘Ticket Subject’ fields that agents select in the CRM. They have retrieved a set of tickets and need to develop insights, to help give the contact center guidance on what most of their ticket drivers are about.\n",
        "\n",
        "\n",
        "\n",
        "\n"
      ],
      "metadata": {
        "id": "esPVbxz1M6e5"
      }
    },
    {
      "cell_type": "markdown",
      "source": [
        "## **Instructions:**\n",
        "\n",
        "In this case study, you will be working with the Customer Support Ticket Dataset from Kaggle (https://www.kaggle.com/datasets/suraj520/customer-support-ticket-dataset). Use the trusted data available in the tickets, including the Ticket Description that the customer has provided. Do not use the untrusted fields.\n",
        "\n",
        "\n",
        "1.\tUsing Python and your preferred IDE, import the data through any appropriate method (API preferred, or directly imported)\n",
        "\n",
        "2.\tAnalyze the data and pre-process the data if and where required, develop any appropriate additional features that you feel necessary for the modeling.\n",
        "\n",
        "3.\tPrepare the data appropriately for modeling to take place.\n",
        "\n",
        "4.\tUsing appropriate Python packages/libraries, build an unsupervised topic model that allocates a topic to each ticket.\n",
        "\n",
        "5.\tUse a supervised classification model to follow a similar approach, by pre-defining and pre-labelling the tickets with a topic and training and testing a classification model. Use no more than 50 different pre-defined topics.\n",
        "\n",
        "6.\tChose the model that you deem most suitable (the supervised classification model or the unsupervised topic model) and visualise the data and model output into a BI visualization tool, such as Power BI, Tableau or other (free/trial). Apply useful titles and filters so users can interact with the data.\n",
        "\n",
        "7.\tEnsure to comment your code, to ensure the evaluator can understand your thinking.\n",
        "\n",
        "8.\tSubmit your Notebook file as well as the dashboard file, as your deliverables.\n"
      ],
      "metadata": {
        "id": "BIajfVkFNLFJ"
      }
    },
    {
      "cell_type": "markdown",
      "source": [
        "**Importing Usefull Python Library**"
      ],
      "metadata": {
        "id": "YO8Dib3YNYvK"
      }
    },
    {
      "cell_type": "code",
      "source": [
        "import pandas as pd\n",
        "import numpy as np\n",
        "import matplotlib.pyplot as plt\n",
        "import seaborn as sns\n",
        "import sklearn\n",
        "from sklearn.model_selection import train_test_split\n",
        "from sklearn.feature_extraction.text import TfidfVectorizer\n",
        "from sklearn.decomposition import LatentDirichletAllocation\n",
        "from sklearn.model_selection import train_test_split\n",
        "from sklearn.ensemble import RandomForestClassifier\n",
        "from sklearn.metrics import accuracy_score, classification_report\n",
        "from sklearn.pipeline import Pipeline\n",
        "from sklearn.preprocessing import LabelEncoder\n",
        "from sklearn.metrics import precision_score, recall_score\n",
        "from gensim import corpora\n",
        "from gensim.models import LdaModel\n",
        "from sklearn.metrics import confusion_matrix\n",
        "from pprint import pprint\n",
        "\n",
        "\n",
        "import warnings\n",
        "warnings.filterwarnings('ignore')"
      ],
      "metadata": {
        "id": "FlN4e5nDND5B"
      },
      "execution_count": 319,
      "outputs": []
    },
    {
      "cell_type": "code",
      "source": [
        "from google.colab import drive\n",
        "drive.mount('/content/drive')"
      ],
      "metadata": {
        "colab": {
          "base_uri": "https://localhost:8080/"
        },
        "id": "p4si3juHN0c2",
        "outputId": "92fd6430-a3b8-4c17-bd96-083c12f86700"
      },
      "execution_count": 320,
      "outputs": [
        {
          "output_type": "stream",
          "name": "stdout",
          "text": [
            "Drive already mounted at /content/drive; to attempt to forcibly remount, call drive.mount(\"/content/drive\", force_remount=True).\n"
          ]
        }
      ]
    },
    {
      "cell_type": "markdown",
      "source": [
        "**Reading & Understaning the dataset**"
      ],
      "metadata": {
        "id": "jQbh8eubOPit"
      }
    },
    {
      "cell_type": "code",
      "source": [
        "customer_ticket_df = pd.read_csv('/content/drive/MyDrive/UpGrad/Customer Support Ticket Classification/customer_support_tickets.csv')"
      ],
      "metadata": {
        "id": "3l-j9ZQDND8c"
      },
      "execution_count": 321,
      "outputs": []
    },
    {
      "cell_type": "code",
      "source": [
        "customer_ticket_df.shape"
      ],
      "metadata": {
        "colab": {
          "base_uri": "https://localhost:8080/"
        },
        "id": "W8UAQ7bxOWi2",
        "outputId": "6045ef27-792f-4dd0-8574-50c68942a7b0"
      },
      "execution_count": 322,
      "outputs": [
        {
          "output_type": "execute_result",
          "data": {
            "text/plain": [
              "(8469, 17)"
            ]
          },
          "metadata": {},
          "execution_count": 322
        }
      ]
    },
    {
      "cell_type": "code",
      "source": [
        "customer_ticket_df.head()"
      ],
      "metadata": {
        "colab": {
          "base_uri": "https://localhost:8080/",
          "height": 521
        },
        "id": "bQVS-rNZOWlO",
        "outputId": "1fde18c8-9907-4896-c7cb-23b85c47c961"
      },
      "execution_count": 323,
      "outputs": [
        {
          "output_type": "execute_result",
          "data": {
            "text/plain": [
              "   Ticket ID        Customer Name              Customer Email  Customer Age  \\\n",
              "0          1        Marisa Obrien  carrollallison@example.com            32   \n",
              "1          2         Jessica Rios    clarkeashley@example.com            42   \n",
              "2          3  Christopher Robbins   gonzalestracy@example.com            48   \n",
              "3          4     Christina Dillon    bradleyolson@example.org            27   \n",
              "4          5    Alexander Carroll     bradleymark@example.com            67   \n",
              "\n",
              "  Customer Gender Product Purchased Date of Purchase      Ticket Type  \\\n",
              "0           Other        GoPro Hero       2021-03-22  Technical issue   \n",
              "1          Female       LG Smart TV       2021-05-22  Technical issue   \n",
              "2           Other          Dell XPS       2020-07-14  Technical issue   \n",
              "3          Female  Microsoft Office       2020-11-13  Billing inquiry   \n",
              "4          Female  Autodesk AutoCAD       2020-02-04  Billing inquiry   \n",
              "\n",
              "             Ticket Subject  \\\n",
              "0             Product setup   \n",
              "1  Peripheral compatibility   \n",
              "2           Network problem   \n",
              "3            Account access   \n",
              "4                 Data loss   \n",
              "\n",
              "                                  Ticket Description  \\\n",
              "0  I'm having an issue with the {product_purchase...   \n",
              "1  I'm having an issue with the {product_purchase...   \n",
              "2  I'm facing a problem with my {product_purchase...   \n",
              "3  I'm having an issue with the {product_purchase...   \n",
              "4  I'm having an issue with the {product_purchase...   \n",
              "\n",
              "               Ticket Status                                     Resolution  \\\n",
              "0  Pending Customer Response                                            NaN   \n",
              "1  Pending Customer Response                                            NaN   \n",
              "2                     Closed   Case maybe show recently my computer follow.   \n",
              "3                     Closed  Try capital clearly never color toward story.   \n",
              "4                     Closed                    West decision evidence bit.   \n",
              "\n",
              "  Ticket Priority Ticket Channel  First Response Time   Time to Resolution  \\\n",
              "0        Critical   Social media  2023-06-01 12:15:36                  NaN   \n",
              "1        Critical           Chat  2023-06-01 16:45:38                  NaN   \n",
              "2             Low   Social media  2023-06-01 11:14:38  2023-06-01 18:05:38   \n",
              "3             Low   Social media  2023-06-01 07:29:40  2023-06-01 01:57:40   \n",
              "4             Low          Email  2023-06-01 00:12:42  2023-06-01 19:53:42   \n",
              "\n",
              "   Customer Satisfaction Rating  \n",
              "0                           NaN  \n",
              "1                           NaN  \n",
              "2                           3.0  \n",
              "3                           3.0  \n",
              "4                           1.0  "
            ],
            "text/html": [
              "\n",
              "  <div id=\"df-5fc1e0c8-d8b5-4b9d-996b-790bba06ed42\" class=\"colab-df-container\">\n",
              "    <div>\n",
              "<style scoped>\n",
              "    .dataframe tbody tr th:only-of-type {\n",
              "        vertical-align: middle;\n",
              "    }\n",
              "\n",
              "    .dataframe tbody tr th {\n",
              "        vertical-align: top;\n",
              "    }\n",
              "\n",
              "    .dataframe thead th {\n",
              "        text-align: right;\n",
              "    }\n",
              "</style>\n",
              "<table border=\"1\" class=\"dataframe\">\n",
              "  <thead>\n",
              "    <tr style=\"text-align: right;\">\n",
              "      <th></th>\n",
              "      <th>Ticket ID</th>\n",
              "      <th>Customer Name</th>\n",
              "      <th>Customer Email</th>\n",
              "      <th>Customer Age</th>\n",
              "      <th>Customer Gender</th>\n",
              "      <th>Product Purchased</th>\n",
              "      <th>Date of Purchase</th>\n",
              "      <th>Ticket Type</th>\n",
              "      <th>Ticket Subject</th>\n",
              "      <th>Ticket Description</th>\n",
              "      <th>Ticket Status</th>\n",
              "      <th>Resolution</th>\n",
              "      <th>Ticket Priority</th>\n",
              "      <th>Ticket Channel</th>\n",
              "      <th>First Response Time</th>\n",
              "      <th>Time to Resolution</th>\n",
              "      <th>Customer Satisfaction Rating</th>\n",
              "    </tr>\n",
              "  </thead>\n",
              "  <tbody>\n",
              "    <tr>\n",
              "      <th>0</th>\n",
              "      <td>1</td>\n",
              "      <td>Marisa Obrien</td>\n",
              "      <td>carrollallison@example.com</td>\n",
              "      <td>32</td>\n",
              "      <td>Other</td>\n",
              "      <td>GoPro Hero</td>\n",
              "      <td>2021-03-22</td>\n",
              "      <td>Technical issue</td>\n",
              "      <td>Product setup</td>\n",
              "      <td>I'm having an issue with the {product_purchase...</td>\n",
              "      <td>Pending Customer Response</td>\n",
              "      <td>NaN</td>\n",
              "      <td>Critical</td>\n",
              "      <td>Social media</td>\n",
              "      <td>2023-06-01 12:15:36</td>\n",
              "      <td>NaN</td>\n",
              "      <td>NaN</td>\n",
              "    </tr>\n",
              "    <tr>\n",
              "      <th>1</th>\n",
              "      <td>2</td>\n",
              "      <td>Jessica Rios</td>\n",
              "      <td>clarkeashley@example.com</td>\n",
              "      <td>42</td>\n",
              "      <td>Female</td>\n",
              "      <td>LG Smart TV</td>\n",
              "      <td>2021-05-22</td>\n",
              "      <td>Technical issue</td>\n",
              "      <td>Peripheral compatibility</td>\n",
              "      <td>I'm having an issue with the {product_purchase...</td>\n",
              "      <td>Pending Customer Response</td>\n",
              "      <td>NaN</td>\n",
              "      <td>Critical</td>\n",
              "      <td>Chat</td>\n",
              "      <td>2023-06-01 16:45:38</td>\n",
              "      <td>NaN</td>\n",
              "      <td>NaN</td>\n",
              "    </tr>\n",
              "    <tr>\n",
              "      <th>2</th>\n",
              "      <td>3</td>\n",
              "      <td>Christopher Robbins</td>\n",
              "      <td>gonzalestracy@example.com</td>\n",
              "      <td>48</td>\n",
              "      <td>Other</td>\n",
              "      <td>Dell XPS</td>\n",
              "      <td>2020-07-14</td>\n",
              "      <td>Technical issue</td>\n",
              "      <td>Network problem</td>\n",
              "      <td>I'm facing a problem with my {product_purchase...</td>\n",
              "      <td>Closed</td>\n",
              "      <td>Case maybe show recently my computer follow.</td>\n",
              "      <td>Low</td>\n",
              "      <td>Social media</td>\n",
              "      <td>2023-06-01 11:14:38</td>\n",
              "      <td>2023-06-01 18:05:38</td>\n",
              "      <td>3.0</td>\n",
              "    </tr>\n",
              "    <tr>\n",
              "      <th>3</th>\n",
              "      <td>4</td>\n",
              "      <td>Christina Dillon</td>\n",
              "      <td>bradleyolson@example.org</td>\n",
              "      <td>27</td>\n",
              "      <td>Female</td>\n",
              "      <td>Microsoft Office</td>\n",
              "      <td>2020-11-13</td>\n",
              "      <td>Billing inquiry</td>\n",
              "      <td>Account access</td>\n",
              "      <td>I'm having an issue with the {product_purchase...</td>\n",
              "      <td>Closed</td>\n",
              "      <td>Try capital clearly never color toward story.</td>\n",
              "      <td>Low</td>\n",
              "      <td>Social media</td>\n",
              "      <td>2023-06-01 07:29:40</td>\n",
              "      <td>2023-06-01 01:57:40</td>\n",
              "      <td>3.0</td>\n",
              "    </tr>\n",
              "    <tr>\n",
              "      <th>4</th>\n",
              "      <td>5</td>\n",
              "      <td>Alexander Carroll</td>\n",
              "      <td>bradleymark@example.com</td>\n",
              "      <td>67</td>\n",
              "      <td>Female</td>\n",
              "      <td>Autodesk AutoCAD</td>\n",
              "      <td>2020-02-04</td>\n",
              "      <td>Billing inquiry</td>\n",
              "      <td>Data loss</td>\n",
              "      <td>I'm having an issue with the {product_purchase...</td>\n",
              "      <td>Closed</td>\n",
              "      <td>West decision evidence bit.</td>\n",
              "      <td>Low</td>\n",
              "      <td>Email</td>\n",
              "      <td>2023-06-01 00:12:42</td>\n",
              "      <td>2023-06-01 19:53:42</td>\n",
              "      <td>1.0</td>\n",
              "    </tr>\n",
              "  </tbody>\n",
              "</table>\n",
              "</div>\n",
              "    <div class=\"colab-df-buttons\">\n",
              "\n",
              "  <div class=\"colab-df-container\">\n",
              "    <button class=\"colab-df-convert\" onclick=\"convertToInteractive('df-5fc1e0c8-d8b5-4b9d-996b-790bba06ed42')\"\n",
              "            title=\"Convert this dataframe to an interactive table.\"\n",
              "            style=\"display:none;\">\n",
              "\n",
              "  <svg xmlns=\"http://www.w3.org/2000/svg\" height=\"24px\" viewBox=\"0 -960 960 960\">\n",
              "    <path d=\"M120-120v-720h720v720H120Zm60-500h600v-160H180v160Zm220 220h160v-160H400v160Zm0 220h160v-160H400v160ZM180-400h160v-160H180v160Zm440 0h160v-160H620v160ZM180-180h160v-160H180v160Zm440 0h160v-160H620v160Z\"/>\n",
              "  </svg>\n",
              "    </button>\n",
              "\n",
              "  <style>\n",
              "    .colab-df-container {\n",
              "      display:flex;\n",
              "      gap: 12px;\n",
              "    }\n",
              "\n",
              "    .colab-df-convert {\n",
              "      background-color: #E8F0FE;\n",
              "      border: none;\n",
              "      border-radius: 50%;\n",
              "      cursor: pointer;\n",
              "      display: none;\n",
              "      fill: #1967D2;\n",
              "      height: 32px;\n",
              "      padding: 0 0 0 0;\n",
              "      width: 32px;\n",
              "    }\n",
              "\n",
              "    .colab-df-convert:hover {\n",
              "      background-color: #E2EBFA;\n",
              "      box-shadow: 0px 1px 2px rgba(60, 64, 67, 0.3), 0px 1px 3px 1px rgba(60, 64, 67, 0.15);\n",
              "      fill: #174EA6;\n",
              "    }\n",
              "\n",
              "    .colab-df-buttons div {\n",
              "      margin-bottom: 4px;\n",
              "    }\n",
              "\n",
              "    [theme=dark] .colab-df-convert {\n",
              "      background-color: #3B4455;\n",
              "      fill: #D2E3FC;\n",
              "    }\n",
              "\n",
              "    [theme=dark] .colab-df-convert:hover {\n",
              "      background-color: #434B5C;\n",
              "      box-shadow: 0px 1px 3px 1px rgba(0, 0, 0, 0.15);\n",
              "      filter: drop-shadow(0px 1px 2px rgba(0, 0, 0, 0.3));\n",
              "      fill: #FFFFFF;\n",
              "    }\n",
              "  </style>\n",
              "\n",
              "    <script>\n",
              "      const buttonEl =\n",
              "        document.querySelector('#df-5fc1e0c8-d8b5-4b9d-996b-790bba06ed42 button.colab-df-convert');\n",
              "      buttonEl.style.display =\n",
              "        google.colab.kernel.accessAllowed ? 'block' : 'none';\n",
              "\n",
              "      async function convertToInteractive(key) {\n",
              "        const element = document.querySelector('#df-5fc1e0c8-d8b5-4b9d-996b-790bba06ed42');\n",
              "        const dataTable =\n",
              "          await google.colab.kernel.invokeFunction('convertToInteractive',\n",
              "                                                    [key], {});\n",
              "        if (!dataTable) return;\n",
              "\n",
              "        const docLinkHtml = 'Like what you see? Visit the ' +\n",
              "          '<a target=\"_blank\" href=https://colab.research.google.com/notebooks/data_table.ipynb>data table notebook</a>'\n",
              "          + ' to learn more about interactive tables.';\n",
              "        element.innerHTML = '';\n",
              "        dataTable['output_type'] = 'display_data';\n",
              "        await google.colab.output.renderOutput(dataTable, element);\n",
              "        const docLink = document.createElement('div');\n",
              "        docLink.innerHTML = docLinkHtml;\n",
              "        element.appendChild(docLink);\n",
              "      }\n",
              "    </script>\n",
              "  </div>\n",
              "\n",
              "\n",
              "<div id=\"df-be80b4bc-3d85-4752-b3a3-f12d3155a129\">\n",
              "  <button class=\"colab-df-quickchart\" onclick=\"quickchart('df-be80b4bc-3d85-4752-b3a3-f12d3155a129')\"\n",
              "            title=\"Suggest charts\"\n",
              "            style=\"display:none;\">\n",
              "\n",
              "<svg xmlns=\"http://www.w3.org/2000/svg\" height=\"24px\"viewBox=\"0 0 24 24\"\n",
              "     width=\"24px\">\n",
              "    <g>\n",
              "        <path d=\"M19 3H5c-1.1 0-2 .9-2 2v14c0 1.1.9 2 2 2h14c1.1 0 2-.9 2-2V5c0-1.1-.9-2-2-2zM9 17H7v-7h2v7zm4 0h-2V7h2v10zm4 0h-2v-4h2v4z\"/>\n",
              "    </g>\n",
              "</svg>\n",
              "  </button>\n",
              "\n",
              "<style>\n",
              "  .colab-df-quickchart {\n",
              "      --bg-color: #E8F0FE;\n",
              "      --fill-color: #1967D2;\n",
              "      --hover-bg-color: #E2EBFA;\n",
              "      --hover-fill-color: #174EA6;\n",
              "      --disabled-fill-color: #AAA;\n",
              "      --disabled-bg-color: #DDD;\n",
              "  }\n",
              "\n",
              "  [theme=dark] .colab-df-quickchart {\n",
              "      --bg-color: #3B4455;\n",
              "      --fill-color: #D2E3FC;\n",
              "      --hover-bg-color: #434B5C;\n",
              "      --hover-fill-color: #FFFFFF;\n",
              "      --disabled-bg-color: #3B4455;\n",
              "      --disabled-fill-color: #666;\n",
              "  }\n",
              "\n",
              "  .colab-df-quickchart {\n",
              "    background-color: var(--bg-color);\n",
              "    border: none;\n",
              "    border-radius: 50%;\n",
              "    cursor: pointer;\n",
              "    display: none;\n",
              "    fill: var(--fill-color);\n",
              "    height: 32px;\n",
              "    padding: 0;\n",
              "    width: 32px;\n",
              "  }\n",
              "\n",
              "  .colab-df-quickchart:hover {\n",
              "    background-color: var(--hover-bg-color);\n",
              "    box-shadow: 0 1px 2px rgba(60, 64, 67, 0.3), 0 1px 3px 1px rgba(60, 64, 67, 0.15);\n",
              "    fill: var(--button-hover-fill-color);\n",
              "  }\n",
              "\n",
              "  .colab-df-quickchart-complete:disabled,\n",
              "  .colab-df-quickchart-complete:disabled:hover {\n",
              "    background-color: var(--disabled-bg-color);\n",
              "    fill: var(--disabled-fill-color);\n",
              "    box-shadow: none;\n",
              "  }\n",
              "\n",
              "  .colab-df-spinner {\n",
              "    border: 2px solid var(--fill-color);\n",
              "    border-color: transparent;\n",
              "    border-bottom-color: var(--fill-color);\n",
              "    animation:\n",
              "      spin 1s steps(1) infinite;\n",
              "  }\n",
              "\n",
              "  @keyframes spin {\n",
              "    0% {\n",
              "      border-color: transparent;\n",
              "      border-bottom-color: var(--fill-color);\n",
              "      border-left-color: var(--fill-color);\n",
              "    }\n",
              "    20% {\n",
              "      border-color: transparent;\n",
              "      border-left-color: var(--fill-color);\n",
              "      border-top-color: var(--fill-color);\n",
              "    }\n",
              "    30% {\n",
              "      border-color: transparent;\n",
              "      border-left-color: var(--fill-color);\n",
              "      border-top-color: var(--fill-color);\n",
              "      border-right-color: var(--fill-color);\n",
              "    }\n",
              "    40% {\n",
              "      border-color: transparent;\n",
              "      border-right-color: var(--fill-color);\n",
              "      border-top-color: var(--fill-color);\n",
              "    }\n",
              "    60% {\n",
              "      border-color: transparent;\n",
              "      border-right-color: var(--fill-color);\n",
              "    }\n",
              "    80% {\n",
              "      border-color: transparent;\n",
              "      border-right-color: var(--fill-color);\n",
              "      border-bottom-color: var(--fill-color);\n",
              "    }\n",
              "    90% {\n",
              "      border-color: transparent;\n",
              "      border-bottom-color: var(--fill-color);\n",
              "    }\n",
              "  }\n",
              "</style>\n",
              "\n",
              "  <script>\n",
              "    async function quickchart(key) {\n",
              "      const quickchartButtonEl =\n",
              "        document.querySelector('#' + key + ' button');\n",
              "      quickchartButtonEl.disabled = true;  // To prevent multiple clicks.\n",
              "      quickchartButtonEl.classList.add('colab-df-spinner');\n",
              "      try {\n",
              "        const charts = await google.colab.kernel.invokeFunction(\n",
              "            'suggestCharts', [key], {});\n",
              "      } catch (error) {\n",
              "        console.error('Error during call to suggestCharts:', error);\n",
              "      }\n",
              "      quickchartButtonEl.classList.remove('colab-df-spinner');\n",
              "      quickchartButtonEl.classList.add('colab-df-quickchart-complete');\n",
              "    }\n",
              "    (() => {\n",
              "      let quickchartButtonEl =\n",
              "        document.querySelector('#df-be80b4bc-3d85-4752-b3a3-f12d3155a129 button');\n",
              "      quickchartButtonEl.style.display =\n",
              "        google.colab.kernel.accessAllowed ? 'block' : 'none';\n",
              "    })();\n",
              "  </script>\n",
              "</div>\n",
              "\n",
              "    </div>\n",
              "  </div>\n"
            ],
            "application/vnd.google.colaboratory.intrinsic+json": {
              "type": "dataframe",
              "variable_name": "customer_ticket_df",
              "summary": "{\n  \"name\": \"customer_ticket_df\",\n  \"rows\": 8469,\n  \"fields\": [\n    {\n      \"column\": \"Ticket ID\",\n      \"properties\": {\n        \"dtype\": \"number\",\n        \"std\": 2444,\n        \"min\": 1,\n        \"max\": 8469,\n        \"num_unique_values\": 8469,\n        \"samples\": [\n          4831,\n          7076,\n          4716\n        ],\n        \"semantic_type\": \"\",\n        \"description\": \"\"\n      }\n    },\n    {\n      \"column\": \"Customer Name\",\n      \"properties\": {\n        \"dtype\": \"string\",\n        \"num_unique_values\": 8028,\n        \"samples\": [\n          \"William Roberts\",\n          \"Jonathan Wilson\",\n          \"Devin Donovan\"\n        ],\n        \"semantic_type\": \"\",\n        \"description\": \"\"\n      }\n    },\n    {\n      \"column\": \"Customer Email\",\n      \"properties\": {\n        \"dtype\": \"string\",\n        \"num_unique_values\": 8320,\n        \"samples\": [\n          \"dcollier@example.com\",\n          \"loriwatts@example.org\",\n          \"fhoward@example.com\"\n        ],\n        \"semantic_type\": \"\",\n        \"description\": \"\"\n      }\n    },\n    {\n      \"column\": \"Customer Age\",\n      \"properties\": {\n        \"dtype\": \"number\",\n        \"std\": 15,\n        \"min\": 18,\n        \"max\": 70,\n        \"num_unique_values\": 53,\n        \"samples\": [\n          35,\n          29,\n          45\n        ],\n        \"semantic_type\": \"\",\n        \"description\": \"\"\n      }\n    },\n    {\n      \"column\": \"Customer Gender\",\n      \"properties\": {\n        \"dtype\": \"category\",\n        \"num_unique_values\": 3,\n        \"samples\": [\n          \"Other\",\n          \"Female\",\n          \"Male\"\n        ],\n        \"semantic_type\": \"\",\n        \"description\": \"\"\n      }\n    },\n    {\n      \"column\": \"Product Purchased\",\n      \"properties\": {\n        \"dtype\": \"category\",\n        \"num_unique_values\": 42,\n        \"samples\": [\n          \"PlayStation\",\n          \"Sony PlayStation\",\n          \"Dyson Vacuum Cleaner\"\n        ],\n        \"semantic_type\": \"\",\n        \"description\": \"\"\n      }\n    },\n    {\n      \"column\": \"Date of Purchase\",\n      \"properties\": {\n        \"dtype\": \"object\",\n        \"num_unique_values\": 730,\n        \"samples\": [\n          \"2021-03-29\",\n          \"2021-05-21\",\n          \"2020-12-23\"\n        ],\n        \"semantic_type\": \"\",\n        \"description\": \"\"\n      }\n    },\n    {\n      \"column\": \"Ticket Type\",\n      \"properties\": {\n        \"dtype\": \"category\",\n        \"num_unique_values\": 5,\n        \"samples\": [\n          \"Billing inquiry\",\n          \"Refund request\",\n          \"Cancellation request\"\n        ],\n        \"semantic_type\": \"\",\n        \"description\": \"\"\n      }\n    },\n    {\n      \"column\": \"Ticket Subject\",\n      \"properties\": {\n        \"dtype\": \"category\",\n        \"num_unique_values\": 16,\n        \"samples\": [\n          \"Product setup\",\n          \"Peripheral compatibility\",\n          \"Payment issue\"\n        ],\n        \"semantic_type\": \"\",\n        \"description\": \"\"\n      }\n    },\n    {\n      \"column\": \"Ticket Description\",\n      \"properties\": {\n        \"dtype\": \"string\",\n        \"num_unique_values\": 8077,\n        \"samples\": [\n          \"The {product_purchased} is unable to establish a stable internet connection. It keeps disconnecting intermittently. How can I troubleshoot this network problem?\\n\\nYou can download a fix for this problem. See \\\"Fixing IPv I'm unable to find the option to perform the desired action in the {product_purchased}. Could you please guide me through the steps?\",\n          \"I'm having an issue with the {product_purchased}. Please assist. As you know, this is not a good user experience. This might result in your subscription being cancelled, deleted and/or not being available for your account. Please I've noticed a peculiar error message popping up on my {product_purchased} screen. It says '{error_message}'. What does it mean?\",\n          \"I've accidentally deleted important data from my {product_purchased}. Is there any way to recover the deleted files? I need them urgently.\\n\\nIf a product or service that you purchased has any deleted product or service at all, send I'm unable to find the option to perform the desired action in the {product_purchased}. Could you please guide me through the steps?\"\n        ],\n        \"semantic_type\": \"\",\n        \"description\": \"\"\n      }\n    },\n    {\n      \"column\": \"Ticket Status\",\n      \"properties\": {\n        \"dtype\": \"category\",\n        \"num_unique_values\": 3,\n        \"samples\": [\n          \"Pending Customer Response\",\n          \"Closed\",\n          \"Open\"\n        ],\n        \"semantic_type\": \"\",\n        \"description\": \"\"\n      }\n    },\n    {\n      \"column\": \"Resolution\",\n      \"properties\": {\n        \"dtype\": \"category\",\n        \"num_unique_values\": 2769,\n        \"samples\": [\n          \"Such option result friend able director.\",\n          \"Pick Republican offer world actually road during.\",\n          \"Deal step team east pressure.\"\n        ],\n        \"semantic_type\": \"\",\n        \"description\": \"\"\n      }\n    },\n    {\n      \"column\": \"Ticket Priority\",\n      \"properties\": {\n        \"dtype\": \"category\",\n        \"num_unique_values\": 4,\n        \"samples\": [\n          \"Low\",\n          \"Medium\",\n          \"Critical\"\n        ],\n        \"semantic_type\": \"\",\n        \"description\": \"\"\n      }\n    },\n    {\n      \"column\": \"Ticket Channel\",\n      \"properties\": {\n        \"dtype\": \"category\",\n        \"num_unique_values\": 4,\n        \"samples\": [\n          \"Chat\",\n          \"Phone\",\n          \"Social media\"\n        ],\n        \"semantic_type\": \"\",\n        \"description\": \"\"\n      }\n    },\n    {\n      \"column\": \"First Response Time\",\n      \"properties\": {\n        \"dtype\": \"object\",\n        \"num_unique_values\": 5470,\n        \"samples\": [\n          \"2023-06-01 22:49:50\",\n          \"2023-06-01 12:29:36\",\n          \"2023-06-01 10:07:10\"\n        ],\n        \"semantic_type\": \"\",\n        \"description\": \"\"\n      }\n    },\n    {\n      \"column\": \"Time to Resolution\",\n      \"properties\": {\n        \"dtype\": \"date\",\n        \"min\": \"2023-05-31 21:53:30\",\n        \"max\": \"2023-06-02 00:55:33\",\n        \"num_unique_values\": 2728,\n        \"samples\": [\n          \"2023-06-01 12:27:47\",\n          \"2023-06-01 04:45:06\",\n          \"2023-06-01 16:13:10\"\n        ],\n        \"semantic_type\": \"\",\n        \"description\": \"\"\n      }\n    },\n    {\n      \"column\": \"Customer Satisfaction Rating\",\n      \"properties\": {\n        \"dtype\": \"number\",\n        \"std\": 1.407015861799693,\n        \"min\": 1.0,\n        \"max\": 5.0,\n        \"num_unique_values\": 5,\n        \"samples\": [\n          1.0,\n          2.0,\n          4.0\n        ],\n        \"semantic_type\": \"\",\n        \"description\": \"\"\n      }\n    }\n  ]\n}"
            }
          },
          "metadata": {},
          "execution_count": 323
        }
      ]
    },
    {
      "cell_type": "code",
      "source": [
        "customer_ticket_df.info()"
      ],
      "metadata": {
        "colab": {
          "base_uri": "https://localhost:8080/"
        },
        "id": "qti2GJcbXeZI",
        "outputId": "7c7e2748-b83a-46cc-a77e-dbf55fd3035f"
      },
      "execution_count": 324,
      "outputs": [
        {
          "output_type": "stream",
          "name": "stdout",
          "text": [
            "<class 'pandas.core.frame.DataFrame'>\n",
            "RangeIndex: 8469 entries, 0 to 8468\n",
            "Data columns (total 17 columns):\n",
            " #   Column                        Non-Null Count  Dtype  \n",
            "---  ------                        --------------  -----  \n",
            " 0   Ticket ID                     8469 non-null   int64  \n",
            " 1   Customer Name                 8469 non-null   object \n",
            " 2   Customer Email                8469 non-null   object \n",
            " 3   Customer Age                  8469 non-null   int64  \n",
            " 4   Customer Gender               8469 non-null   object \n",
            " 5   Product Purchased             8469 non-null   object \n",
            " 6   Date of Purchase              8469 non-null   object \n",
            " 7   Ticket Type                   8469 non-null   object \n",
            " 8   Ticket Subject                8469 non-null   object \n",
            " 9   Ticket Description            8469 non-null   object \n",
            " 10  Ticket Status                 8469 non-null   object \n",
            " 11  Resolution                    2769 non-null   object \n",
            " 12  Ticket Priority               8469 non-null   object \n",
            " 13  Ticket Channel                8469 non-null   object \n",
            " 14  First Response Time           5650 non-null   object \n",
            " 15  Time to Resolution            2769 non-null   object \n",
            " 16  Customer Satisfaction Rating  2769 non-null   float64\n",
            "dtypes: float64(1), int64(2), object(14)\n",
            "memory usage: 1.1+ MB\n"
          ]
        }
      ]
    },
    {
      "cell_type": "markdown",
      "source": [
        "**Handle Missing Data**"
      ],
      "metadata": {
        "id": "nefh_J_YYOXG"
      }
    },
    {
      "cell_type": "code",
      "source": [
        "missing_values = round(customer_ticket_df.isnull().mean()*100,2)\n",
        "missing_values[missing_values>0]"
      ],
      "metadata": {
        "colab": {
          "base_uri": "https://localhost:8080/"
        },
        "id": "_RWK2qjyYIIN",
        "outputId": "e58aeb74-d1c8-4d4c-d56a-2a3c0a132d1c"
      },
      "execution_count": 325,
      "outputs": [
        {
          "output_type": "execute_result",
          "data": {
            "text/plain": [
              "Resolution                      67.30\n",
              "First Response Time             33.29\n",
              "Time to Resolution              67.30\n",
              "Customer Satisfaction Rating    67.30\n",
              "dtype: float64"
            ]
          },
          "metadata": {},
          "execution_count": 325
        }
      ]
    },
    {
      "cell_type": "markdown",
      "source": [
        "**Drop the features with high number of missing value**"
      ],
      "metadata": {
        "id": "Au2KdxzaYrWE"
      }
    },
    {
      "cell_type": "markdown",
      "source": [
        "**I will Keep Resolution feature as we can concat it with ticket description and find better insights into the topic of issue**"
      ],
      "metadata": {
        "id": "3Z9Xd0xlZRRB"
      }
    },
    {
      "cell_type": "code",
      "source": [
        "customer_ticket_df.drop(['First Response Time','Time to Resolution','Customer Satisfaction Rating'], axis=1, inplace = True)"
      ],
      "metadata": {
        "id": "IsW_ZYehYqhv"
      },
      "execution_count": 326,
      "outputs": []
    },
    {
      "cell_type": "code",
      "source": [
        "customer_ticket_df.drop(['Ticket Subject','Ticket Type'], axis=1, inplace = True)"
      ],
      "metadata": {
        "id": "b1H2niS9x-MT"
      },
      "execution_count": 327,
      "outputs": []
    },
    {
      "cell_type": "code",
      "source": [
        "customer_ticket_df.shape"
      ],
      "metadata": {
        "colab": {
          "base_uri": "https://localhost:8080/"
        },
        "id": "NXEt-MvGYIT6",
        "outputId": "58ef2ca3-9ca0-48bc-e955-ef75f47d5584"
      },
      "execution_count": 328,
      "outputs": [
        {
          "output_type": "execute_result",
          "data": {
            "text/plain": [
              "(8469, 12)"
            ]
          },
          "metadata": {},
          "execution_count": 328
        }
      ]
    },
    {
      "cell_type": "code",
      "source": [
        "customer_ticket_df.describe()"
      ],
      "metadata": {
        "colab": {
          "base_uri": "https://localhost:8080/",
          "height": 300
        },
        "id": "dbv1vZZdYIYc",
        "outputId": "2dcac524-92a7-449b-deb3-dc839fa28969"
      },
      "execution_count": 329,
      "outputs": [
        {
          "output_type": "execute_result",
          "data": {
            "text/plain": [
              "         Ticket ID  Customer Age\n",
              "count  8469.000000   8469.000000\n",
              "mean   4235.000000     44.026804\n",
              "std    2444.934048     15.296112\n",
              "min       1.000000     18.000000\n",
              "25%    2118.000000     31.000000\n",
              "50%    4235.000000     44.000000\n",
              "75%    6352.000000     57.000000\n",
              "max    8469.000000     70.000000"
            ],
            "text/html": [
              "\n",
              "  <div id=\"df-05defc27-8bfd-462c-8847-ab6637dbab60\" class=\"colab-df-container\">\n",
              "    <div>\n",
              "<style scoped>\n",
              "    .dataframe tbody tr th:only-of-type {\n",
              "        vertical-align: middle;\n",
              "    }\n",
              "\n",
              "    .dataframe tbody tr th {\n",
              "        vertical-align: top;\n",
              "    }\n",
              "\n",
              "    .dataframe thead th {\n",
              "        text-align: right;\n",
              "    }\n",
              "</style>\n",
              "<table border=\"1\" class=\"dataframe\">\n",
              "  <thead>\n",
              "    <tr style=\"text-align: right;\">\n",
              "      <th></th>\n",
              "      <th>Ticket ID</th>\n",
              "      <th>Customer Age</th>\n",
              "    </tr>\n",
              "  </thead>\n",
              "  <tbody>\n",
              "    <tr>\n",
              "      <th>count</th>\n",
              "      <td>8469.000000</td>\n",
              "      <td>8469.000000</td>\n",
              "    </tr>\n",
              "    <tr>\n",
              "      <th>mean</th>\n",
              "      <td>4235.000000</td>\n",
              "      <td>44.026804</td>\n",
              "    </tr>\n",
              "    <tr>\n",
              "      <th>std</th>\n",
              "      <td>2444.934048</td>\n",
              "      <td>15.296112</td>\n",
              "    </tr>\n",
              "    <tr>\n",
              "      <th>min</th>\n",
              "      <td>1.000000</td>\n",
              "      <td>18.000000</td>\n",
              "    </tr>\n",
              "    <tr>\n",
              "      <th>25%</th>\n",
              "      <td>2118.000000</td>\n",
              "      <td>31.000000</td>\n",
              "    </tr>\n",
              "    <tr>\n",
              "      <th>50%</th>\n",
              "      <td>4235.000000</td>\n",
              "      <td>44.000000</td>\n",
              "    </tr>\n",
              "    <tr>\n",
              "      <th>75%</th>\n",
              "      <td>6352.000000</td>\n",
              "      <td>57.000000</td>\n",
              "    </tr>\n",
              "    <tr>\n",
              "      <th>max</th>\n",
              "      <td>8469.000000</td>\n",
              "      <td>70.000000</td>\n",
              "    </tr>\n",
              "  </tbody>\n",
              "</table>\n",
              "</div>\n",
              "    <div class=\"colab-df-buttons\">\n",
              "\n",
              "  <div class=\"colab-df-container\">\n",
              "    <button class=\"colab-df-convert\" onclick=\"convertToInteractive('df-05defc27-8bfd-462c-8847-ab6637dbab60')\"\n",
              "            title=\"Convert this dataframe to an interactive table.\"\n",
              "            style=\"display:none;\">\n",
              "\n",
              "  <svg xmlns=\"http://www.w3.org/2000/svg\" height=\"24px\" viewBox=\"0 -960 960 960\">\n",
              "    <path d=\"M120-120v-720h720v720H120Zm60-500h600v-160H180v160Zm220 220h160v-160H400v160Zm0 220h160v-160H400v160ZM180-400h160v-160H180v160Zm440 0h160v-160H620v160ZM180-180h160v-160H180v160Zm440 0h160v-160H620v160Z\"/>\n",
              "  </svg>\n",
              "    </button>\n",
              "\n",
              "  <style>\n",
              "    .colab-df-container {\n",
              "      display:flex;\n",
              "      gap: 12px;\n",
              "    }\n",
              "\n",
              "    .colab-df-convert {\n",
              "      background-color: #E8F0FE;\n",
              "      border: none;\n",
              "      border-radius: 50%;\n",
              "      cursor: pointer;\n",
              "      display: none;\n",
              "      fill: #1967D2;\n",
              "      height: 32px;\n",
              "      padding: 0 0 0 0;\n",
              "      width: 32px;\n",
              "    }\n",
              "\n",
              "    .colab-df-convert:hover {\n",
              "      background-color: #E2EBFA;\n",
              "      box-shadow: 0px 1px 2px rgba(60, 64, 67, 0.3), 0px 1px 3px 1px rgba(60, 64, 67, 0.15);\n",
              "      fill: #174EA6;\n",
              "    }\n",
              "\n",
              "    .colab-df-buttons div {\n",
              "      margin-bottom: 4px;\n",
              "    }\n",
              "\n",
              "    [theme=dark] .colab-df-convert {\n",
              "      background-color: #3B4455;\n",
              "      fill: #D2E3FC;\n",
              "    }\n",
              "\n",
              "    [theme=dark] .colab-df-convert:hover {\n",
              "      background-color: #434B5C;\n",
              "      box-shadow: 0px 1px 3px 1px rgba(0, 0, 0, 0.15);\n",
              "      filter: drop-shadow(0px 1px 2px rgba(0, 0, 0, 0.3));\n",
              "      fill: #FFFFFF;\n",
              "    }\n",
              "  </style>\n",
              "\n",
              "    <script>\n",
              "      const buttonEl =\n",
              "        document.querySelector('#df-05defc27-8bfd-462c-8847-ab6637dbab60 button.colab-df-convert');\n",
              "      buttonEl.style.display =\n",
              "        google.colab.kernel.accessAllowed ? 'block' : 'none';\n",
              "\n",
              "      async function convertToInteractive(key) {\n",
              "        const element = document.querySelector('#df-05defc27-8bfd-462c-8847-ab6637dbab60');\n",
              "        const dataTable =\n",
              "          await google.colab.kernel.invokeFunction('convertToInteractive',\n",
              "                                                    [key], {});\n",
              "        if (!dataTable) return;\n",
              "\n",
              "        const docLinkHtml = 'Like what you see? Visit the ' +\n",
              "          '<a target=\"_blank\" href=https://colab.research.google.com/notebooks/data_table.ipynb>data table notebook</a>'\n",
              "          + ' to learn more about interactive tables.';\n",
              "        element.innerHTML = '';\n",
              "        dataTable['output_type'] = 'display_data';\n",
              "        await google.colab.output.renderOutput(dataTable, element);\n",
              "        const docLink = document.createElement('div');\n",
              "        docLink.innerHTML = docLinkHtml;\n",
              "        element.appendChild(docLink);\n",
              "      }\n",
              "    </script>\n",
              "  </div>\n",
              "\n",
              "\n",
              "<div id=\"df-823f3957-fb56-4697-a1b3-9a7e5aa4b367\">\n",
              "  <button class=\"colab-df-quickchart\" onclick=\"quickchart('df-823f3957-fb56-4697-a1b3-9a7e5aa4b367')\"\n",
              "            title=\"Suggest charts\"\n",
              "            style=\"display:none;\">\n",
              "\n",
              "<svg xmlns=\"http://www.w3.org/2000/svg\" height=\"24px\"viewBox=\"0 0 24 24\"\n",
              "     width=\"24px\">\n",
              "    <g>\n",
              "        <path d=\"M19 3H5c-1.1 0-2 .9-2 2v14c0 1.1.9 2 2 2h14c1.1 0 2-.9 2-2V5c0-1.1-.9-2-2-2zM9 17H7v-7h2v7zm4 0h-2V7h2v10zm4 0h-2v-4h2v4z\"/>\n",
              "    </g>\n",
              "</svg>\n",
              "  </button>\n",
              "\n",
              "<style>\n",
              "  .colab-df-quickchart {\n",
              "      --bg-color: #E8F0FE;\n",
              "      --fill-color: #1967D2;\n",
              "      --hover-bg-color: #E2EBFA;\n",
              "      --hover-fill-color: #174EA6;\n",
              "      --disabled-fill-color: #AAA;\n",
              "      --disabled-bg-color: #DDD;\n",
              "  }\n",
              "\n",
              "  [theme=dark] .colab-df-quickchart {\n",
              "      --bg-color: #3B4455;\n",
              "      --fill-color: #D2E3FC;\n",
              "      --hover-bg-color: #434B5C;\n",
              "      --hover-fill-color: #FFFFFF;\n",
              "      --disabled-bg-color: #3B4455;\n",
              "      --disabled-fill-color: #666;\n",
              "  }\n",
              "\n",
              "  .colab-df-quickchart {\n",
              "    background-color: var(--bg-color);\n",
              "    border: none;\n",
              "    border-radius: 50%;\n",
              "    cursor: pointer;\n",
              "    display: none;\n",
              "    fill: var(--fill-color);\n",
              "    height: 32px;\n",
              "    padding: 0;\n",
              "    width: 32px;\n",
              "  }\n",
              "\n",
              "  .colab-df-quickchart:hover {\n",
              "    background-color: var(--hover-bg-color);\n",
              "    box-shadow: 0 1px 2px rgba(60, 64, 67, 0.3), 0 1px 3px 1px rgba(60, 64, 67, 0.15);\n",
              "    fill: var(--button-hover-fill-color);\n",
              "  }\n",
              "\n",
              "  .colab-df-quickchart-complete:disabled,\n",
              "  .colab-df-quickchart-complete:disabled:hover {\n",
              "    background-color: var(--disabled-bg-color);\n",
              "    fill: var(--disabled-fill-color);\n",
              "    box-shadow: none;\n",
              "  }\n",
              "\n",
              "  .colab-df-spinner {\n",
              "    border: 2px solid var(--fill-color);\n",
              "    border-color: transparent;\n",
              "    border-bottom-color: var(--fill-color);\n",
              "    animation:\n",
              "      spin 1s steps(1) infinite;\n",
              "  }\n",
              "\n",
              "  @keyframes spin {\n",
              "    0% {\n",
              "      border-color: transparent;\n",
              "      border-bottom-color: var(--fill-color);\n",
              "      border-left-color: var(--fill-color);\n",
              "    }\n",
              "    20% {\n",
              "      border-color: transparent;\n",
              "      border-left-color: var(--fill-color);\n",
              "      border-top-color: var(--fill-color);\n",
              "    }\n",
              "    30% {\n",
              "      border-color: transparent;\n",
              "      border-left-color: var(--fill-color);\n",
              "      border-top-color: var(--fill-color);\n",
              "      border-right-color: var(--fill-color);\n",
              "    }\n",
              "    40% {\n",
              "      border-color: transparent;\n",
              "      border-right-color: var(--fill-color);\n",
              "      border-top-color: var(--fill-color);\n",
              "    }\n",
              "    60% {\n",
              "      border-color: transparent;\n",
              "      border-right-color: var(--fill-color);\n",
              "    }\n",
              "    80% {\n",
              "      border-color: transparent;\n",
              "      border-right-color: var(--fill-color);\n",
              "      border-bottom-color: var(--fill-color);\n",
              "    }\n",
              "    90% {\n",
              "      border-color: transparent;\n",
              "      border-bottom-color: var(--fill-color);\n",
              "    }\n",
              "  }\n",
              "</style>\n",
              "\n",
              "  <script>\n",
              "    async function quickchart(key) {\n",
              "      const quickchartButtonEl =\n",
              "        document.querySelector('#' + key + ' button');\n",
              "      quickchartButtonEl.disabled = true;  // To prevent multiple clicks.\n",
              "      quickchartButtonEl.classList.add('colab-df-spinner');\n",
              "      try {\n",
              "        const charts = await google.colab.kernel.invokeFunction(\n",
              "            'suggestCharts', [key], {});\n",
              "      } catch (error) {\n",
              "        console.error('Error during call to suggestCharts:', error);\n",
              "      }\n",
              "      quickchartButtonEl.classList.remove('colab-df-spinner');\n",
              "      quickchartButtonEl.classList.add('colab-df-quickchart-complete');\n",
              "    }\n",
              "    (() => {\n",
              "      let quickchartButtonEl =\n",
              "        document.querySelector('#df-823f3957-fb56-4697-a1b3-9a7e5aa4b367 button');\n",
              "      quickchartButtonEl.style.display =\n",
              "        google.colab.kernel.accessAllowed ? 'block' : 'none';\n",
              "    })();\n",
              "  </script>\n",
              "</div>\n",
              "\n",
              "    </div>\n",
              "  </div>\n"
            ],
            "application/vnd.google.colaboratory.intrinsic+json": {
              "type": "dataframe",
              "summary": "{\n  \"name\": \"customer_ticket_df\",\n  \"rows\": 8,\n  \"fields\": [\n    {\n      \"column\": \"Ticket ID\",\n      \"properties\": {\n        \"dtype\": \"number\",\n        \"std\": 3051.9637801595545,\n        \"min\": 1.0,\n        \"max\": 8469.0,\n        \"num_unique_values\": 6,\n        \"samples\": [\n          8469.0,\n          4235.0,\n          6352.0\n        ],\n        \"semantic_type\": \"\",\n        \"description\": \"\"\n      }\n    },\n    {\n      \"column\": \"Customer Age\",\n      \"properties\": {\n        \"dtype\": \"number\",\n        \"std\": 2980.19316487738,\n        \"min\": 15.29611249888238,\n        \"max\": 8469.0,\n        \"num_unique_values\": 8,\n        \"samples\": [\n          44.02680363679301,\n          44.0,\n          8469.0\n        ],\n        \"semantic_type\": \"\",\n        \"description\": \"\"\n      }\n    }\n  ]\n}"
            }
          },
          "metadata": {},
          "execution_count": 329
        }
      ]
    },
    {
      "cell_type": "markdown",
      "source": [
        "**Feature Engineering**"
      ],
      "metadata": {
        "id": "2HsQcMamwdNn"
      }
    },
    {
      "cell_type": "code",
      "source": [
        "customer_ticket_df['Text_content'] = customer_ticket_df['Resolution'].fillna('') + ' ' + customer_ticket_df['Ticket Description'].fillna('')"
      ],
      "metadata": {
        "id": "TjBxxEcSvSjq"
      },
      "execution_count": 330,
      "outputs": []
    },
    {
      "cell_type": "code",
      "source": [
        "# Dropping duplicate column\n",
        "\n",
        "customer_ticket_df.drop(['Resolution','Ticket Description'], axis = 1, inplace = True)"
      ],
      "metadata": {
        "id": "q3s-ojUcvSom"
      },
      "execution_count": 331,
      "outputs": []
    },
    {
      "cell_type": "code",
      "source": [
        "customer_ticket_df.head()"
      ],
      "metadata": {
        "colab": {
          "base_uri": "https://localhost:8080/",
          "height": 310
        },
        "id": "wME2vMYFvSq2",
        "outputId": "899142f9-5ed2-4780-8e26-8999fec0540c"
      },
      "execution_count": 332,
      "outputs": [
        {
          "output_type": "execute_result",
          "data": {
            "text/plain": [
              "   Ticket ID        Customer Name              Customer Email  Customer Age  \\\n",
              "0          1        Marisa Obrien  carrollallison@example.com            32   \n",
              "1          2         Jessica Rios    clarkeashley@example.com            42   \n",
              "2          3  Christopher Robbins   gonzalestracy@example.com            48   \n",
              "3          4     Christina Dillon    bradleyolson@example.org            27   \n",
              "4          5    Alexander Carroll     bradleymark@example.com            67   \n",
              "\n",
              "  Customer Gender Product Purchased Date of Purchase  \\\n",
              "0           Other        GoPro Hero       2021-03-22   \n",
              "1          Female       LG Smart TV       2021-05-22   \n",
              "2           Other          Dell XPS       2020-07-14   \n",
              "3          Female  Microsoft Office       2020-11-13   \n",
              "4          Female  Autodesk AutoCAD       2020-02-04   \n",
              "\n",
              "               Ticket Status Ticket Priority Ticket Channel  \\\n",
              "0  Pending Customer Response        Critical   Social media   \n",
              "1  Pending Customer Response        Critical           Chat   \n",
              "2                     Closed             Low   Social media   \n",
              "3                     Closed             Low   Social media   \n",
              "4                     Closed             Low          Email   \n",
              "\n",
              "                                        Text_content  \n",
              "0   I'm having an issue with the {product_purchas...  \n",
              "1   I'm having an issue with the {product_purchas...  \n",
              "2  Case maybe show recently my computer follow. I...  \n",
              "3  Try capital clearly never color toward story. ...  \n",
              "4  West decision evidence bit. I'm having an issu...  "
            ],
            "text/html": [
              "\n",
              "  <div id=\"df-e975c215-ee66-4d07-af06-e46b98eb8062\" class=\"colab-df-container\">\n",
              "    <div>\n",
              "<style scoped>\n",
              "    .dataframe tbody tr th:only-of-type {\n",
              "        vertical-align: middle;\n",
              "    }\n",
              "\n",
              "    .dataframe tbody tr th {\n",
              "        vertical-align: top;\n",
              "    }\n",
              "\n",
              "    .dataframe thead th {\n",
              "        text-align: right;\n",
              "    }\n",
              "</style>\n",
              "<table border=\"1\" class=\"dataframe\">\n",
              "  <thead>\n",
              "    <tr style=\"text-align: right;\">\n",
              "      <th></th>\n",
              "      <th>Ticket ID</th>\n",
              "      <th>Customer Name</th>\n",
              "      <th>Customer Email</th>\n",
              "      <th>Customer Age</th>\n",
              "      <th>Customer Gender</th>\n",
              "      <th>Product Purchased</th>\n",
              "      <th>Date of Purchase</th>\n",
              "      <th>Ticket Status</th>\n",
              "      <th>Ticket Priority</th>\n",
              "      <th>Ticket Channel</th>\n",
              "      <th>Text_content</th>\n",
              "    </tr>\n",
              "  </thead>\n",
              "  <tbody>\n",
              "    <tr>\n",
              "      <th>0</th>\n",
              "      <td>1</td>\n",
              "      <td>Marisa Obrien</td>\n",
              "      <td>carrollallison@example.com</td>\n",
              "      <td>32</td>\n",
              "      <td>Other</td>\n",
              "      <td>GoPro Hero</td>\n",
              "      <td>2021-03-22</td>\n",
              "      <td>Pending Customer Response</td>\n",
              "      <td>Critical</td>\n",
              "      <td>Social media</td>\n",
              "      <td>I'm having an issue with the {product_purchas...</td>\n",
              "    </tr>\n",
              "    <tr>\n",
              "      <th>1</th>\n",
              "      <td>2</td>\n",
              "      <td>Jessica Rios</td>\n",
              "      <td>clarkeashley@example.com</td>\n",
              "      <td>42</td>\n",
              "      <td>Female</td>\n",
              "      <td>LG Smart TV</td>\n",
              "      <td>2021-05-22</td>\n",
              "      <td>Pending Customer Response</td>\n",
              "      <td>Critical</td>\n",
              "      <td>Chat</td>\n",
              "      <td>I'm having an issue with the {product_purchas...</td>\n",
              "    </tr>\n",
              "    <tr>\n",
              "      <th>2</th>\n",
              "      <td>3</td>\n",
              "      <td>Christopher Robbins</td>\n",
              "      <td>gonzalestracy@example.com</td>\n",
              "      <td>48</td>\n",
              "      <td>Other</td>\n",
              "      <td>Dell XPS</td>\n",
              "      <td>2020-07-14</td>\n",
              "      <td>Closed</td>\n",
              "      <td>Low</td>\n",
              "      <td>Social media</td>\n",
              "      <td>Case maybe show recently my computer follow. I...</td>\n",
              "    </tr>\n",
              "    <tr>\n",
              "      <th>3</th>\n",
              "      <td>4</td>\n",
              "      <td>Christina Dillon</td>\n",
              "      <td>bradleyolson@example.org</td>\n",
              "      <td>27</td>\n",
              "      <td>Female</td>\n",
              "      <td>Microsoft Office</td>\n",
              "      <td>2020-11-13</td>\n",
              "      <td>Closed</td>\n",
              "      <td>Low</td>\n",
              "      <td>Social media</td>\n",
              "      <td>Try capital clearly never color toward story. ...</td>\n",
              "    </tr>\n",
              "    <tr>\n",
              "      <th>4</th>\n",
              "      <td>5</td>\n",
              "      <td>Alexander Carroll</td>\n",
              "      <td>bradleymark@example.com</td>\n",
              "      <td>67</td>\n",
              "      <td>Female</td>\n",
              "      <td>Autodesk AutoCAD</td>\n",
              "      <td>2020-02-04</td>\n",
              "      <td>Closed</td>\n",
              "      <td>Low</td>\n",
              "      <td>Email</td>\n",
              "      <td>West decision evidence bit. I'm having an issu...</td>\n",
              "    </tr>\n",
              "  </tbody>\n",
              "</table>\n",
              "</div>\n",
              "    <div class=\"colab-df-buttons\">\n",
              "\n",
              "  <div class=\"colab-df-container\">\n",
              "    <button class=\"colab-df-convert\" onclick=\"convertToInteractive('df-e975c215-ee66-4d07-af06-e46b98eb8062')\"\n",
              "            title=\"Convert this dataframe to an interactive table.\"\n",
              "            style=\"display:none;\">\n",
              "\n",
              "  <svg xmlns=\"http://www.w3.org/2000/svg\" height=\"24px\" viewBox=\"0 -960 960 960\">\n",
              "    <path d=\"M120-120v-720h720v720H120Zm60-500h600v-160H180v160Zm220 220h160v-160H400v160Zm0 220h160v-160H400v160ZM180-400h160v-160H180v160Zm440 0h160v-160H620v160ZM180-180h160v-160H180v160Zm440 0h160v-160H620v160Z\"/>\n",
              "  </svg>\n",
              "    </button>\n",
              "\n",
              "  <style>\n",
              "    .colab-df-container {\n",
              "      display:flex;\n",
              "      gap: 12px;\n",
              "    }\n",
              "\n",
              "    .colab-df-convert {\n",
              "      background-color: #E8F0FE;\n",
              "      border: none;\n",
              "      border-radius: 50%;\n",
              "      cursor: pointer;\n",
              "      display: none;\n",
              "      fill: #1967D2;\n",
              "      height: 32px;\n",
              "      padding: 0 0 0 0;\n",
              "      width: 32px;\n",
              "    }\n",
              "\n",
              "    .colab-df-convert:hover {\n",
              "      background-color: #E2EBFA;\n",
              "      box-shadow: 0px 1px 2px rgba(60, 64, 67, 0.3), 0px 1px 3px 1px rgba(60, 64, 67, 0.15);\n",
              "      fill: #174EA6;\n",
              "    }\n",
              "\n",
              "    .colab-df-buttons div {\n",
              "      margin-bottom: 4px;\n",
              "    }\n",
              "\n",
              "    [theme=dark] .colab-df-convert {\n",
              "      background-color: #3B4455;\n",
              "      fill: #D2E3FC;\n",
              "    }\n",
              "\n",
              "    [theme=dark] .colab-df-convert:hover {\n",
              "      background-color: #434B5C;\n",
              "      box-shadow: 0px 1px 3px 1px rgba(0, 0, 0, 0.15);\n",
              "      filter: drop-shadow(0px 1px 2px rgba(0, 0, 0, 0.3));\n",
              "      fill: #FFFFFF;\n",
              "    }\n",
              "  </style>\n",
              "\n",
              "    <script>\n",
              "      const buttonEl =\n",
              "        document.querySelector('#df-e975c215-ee66-4d07-af06-e46b98eb8062 button.colab-df-convert');\n",
              "      buttonEl.style.display =\n",
              "        google.colab.kernel.accessAllowed ? 'block' : 'none';\n",
              "\n",
              "      async function convertToInteractive(key) {\n",
              "        const element = document.querySelector('#df-e975c215-ee66-4d07-af06-e46b98eb8062');\n",
              "        const dataTable =\n",
              "          await google.colab.kernel.invokeFunction('convertToInteractive',\n",
              "                                                    [key], {});\n",
              "        if (!dataTable) return;\n",
              "\n",
              "        const docLinkHtml = 'Like what you see? Visit the ' +\n",
              "          '<a target=\"_blank\" href=https://colab.research.google.com/notebooks/data_table.ipynb>data table notebook</a>'\n",
              "          + ' to learn more about interactive tables.';\n",
              "        element.innerHTML = '';\n",
              "        dataTable['output_type'] = 'display_data';\n",
              "        await google.colab.output.renderOutput(dataTable, element);\n",
              "        const docLink = document.createElement('div');\n",
              "        docLink.innerHTML = docLinkHtml;\n",
              "        element.appendChild(docLink);\n",
              "      }\n",
              "    </script>\n",
              "  </div>\n",
              "\n",
              "\n",
              "<div id=\"df-c693d913-05ba-4e52-9d47-5f7f011b394c\">\n",
              "  <button class=\"colab-df-quickchart\" onclick=\"quickchart('df-c693d913-05ba-4e52-9d47-5f7f011b394c')\"\n",
              "            title=\"Suggest charts\"\n",
              "            style=\"display:none;\">\n",
              "\n",
              "<svg xmlns=\"http://www.w3.org/2000/svg\" height=\"24px\"viewBox=\"0 0 24 24\"\n",
              "     width=\"24px\">\n",
              "    <g>\n",
              "        <path d=\"M19 3H5c-1.1 0-2 .9-2 2v14c0 1.1.9 2 2 2h14c1.1 0 2-.9 2-2V5c0-1.1-.9-2-2-2zM9 17H7v-7h2v7zm4 0h-2V7h2v10zm4 0h-2v-4h2v4z\"/>\n",
              "    </g>\n",
              "</svg>\n",
              "  </button>\n",
              "\n",
              "<style>\n",
              "  .colab-df-quickchart {\n",
              "      --bg-color: #E8F0FE;\n",
              "      --fill-color: #1967D2;\n",
              "      --hover-bg-color: #E2EBFA;\n",
              "      --hover-fill-color: #174EA6;\n",
              "      --disabled-fill-color: #AAA;\n",
              "      --disabled-bg-color: #DDD;\n",
              "  }\n",
              "\n",
              "  [theme=dark] .colab-df-quickchart {\n",
              "      --bg-color: #3B4455;\n",
              "      --fill-color: #D2E3FC;\n",
              "      --hover-bg-color: #434B5C;\n",
              "      --hover-fill-color: #FFFFFF;\n",
              "      --disabled-bg-color: #3B4455;\n",
              "      --disabled-fill-color: #666;\n",
              "  }\n",
              "\n",
              "  .colab-df-quickchart {\n",
              "    background-color: var(--bg-color);\n",
              "    border: none;\n",
              "    border-radius: 50%;\n",
              "    cursor: pointer;\n",
              "    display: none;\n",
              "    fill: var(--fill-color);\n",
              "    height: 32px;\n",
              "    padding: 0;\n",
              "    width: 32px;\n",
              "  }\n",
              "\n",
              "  .colab-df-quickchart:hover {\n",
              "    background-color: var(--hover-bg-color);\n",
              "    box-shadow: 0 1px 2px rgba(60, 64, 67, 0.3), 0 1px 3px 1px rgba(60, 64, 67, 0.15);\n",
              "    fill: var(--button-hover-fill-color);\n",
              "  }\n",
              "\n",
              "  .colab-df-quickchart-complete:disabled,\n",
              "  .colab-df-quickchart-complete:disabled:hover {\n",
              "    background-color: var(--disabled-bg-color);\n",
              "    fill: var(--disabled-fill-color);\n",
              "    box-shadow: none;\n",
              "  }\n",
              "\n",
              "  .colab-df-spinner {\n",
              "    border: 2px solid var(--fill-color);\n",
              "    border-color: transparent;\n",
              "    border-bottom-color: var(--fill-color);\n",
              "    animation:\n",
              "      spin 1s steps(1) infinite;\n",
              "  }\n",
              "\n",
              "  @keyframes spin {\n",
              "    0% {\n",
              "      border-color: transparent;\n",
              "      border-bottom-color: var(--fill-color);\n",
              "      border-left-color: var(--fill-color);\n",
              "    }\n",
              "    20% {\n",
              "      border-color: transparent;\n",
              "      border-left-color: var(--fill-color);\n",
              "      border-top-color: var(--fill-color);\n",
              "    }\n",
              "    30% {\n",
              "      border-color: transparent;\n",
              "      border-left-color: var(--fill-color);\n",
              "      border-top-color: var(--fill-color);\n",
              "      border-right-color: var(--fill-color);\n",
              "    }\n",
              "    40% {\n",
              "      border-color: transparent;\n",
              "      border-right-color: var(--fill-color);\n",
              "      border-top-color: var(--fill-color);\n",
              "    }\n",
              "    60% {\n",
              "      border-color: transparent;\n",
              "      border-right-color: var(--fill-color);\n",
              "    }\n",
              "    80% {\n",
              "      border-color: transparent;\n",
              "      border-right-color: var(--fill-color);\n",
              "      border-bottom-color: var(--fill-color);\n",
              "    }\n",
              "    90% {\n",
              "      border-color: transparent;\n",
              "      border-bottom-color: var(--fill-color);\n",
              "    }\n",
              "  }\n",
              "</style>\n",
              "\n",
              "  <script>\n",
              "    async function quickchart(key) {\n",
              "      const quickchartButtonEl =\n",
              "        document.querySelector('#' + key + ' button');\n",
              "      quickchartButtonEl.disabled = true;  // To prevent multiple clicks.\n",
              "      quickchartButtonEl.classList.add('colab-df-spinner');\n",
              "      try {\n",
              "        const charts = await google.colab.kernel.invokeFunction(\n",
              "            'suggestCharts', [key], {});\n",
              "      } catch (error) {\n",
              "        console.error('Error during call to suggestCharts:', error);\n",
              "      }\n",
              "      quickchartButtonEl.classList.remove('colab-df-spinner');\n",
              "      quickchartButtonEl.classList.add('colab-df-quickchart-complete');\n",
              "    }\n",
              "    (() => {\n",
              "      let quickchartButtonEl =\n",
              "        document.querySelector('#df-c693d913-05ba-4e52-9d47-5f7f011b394c button');\n",
              "      quickchartButtonEl.style.display =\n",
              "        google.colab.kernel.accessAllowed ? 'block' : 'none';\n",
              "    })();\n",
              "  </script>\n",
              "</div>\n",
              "\n",
              "    </div>\n",
              "  </div>\n"
            ],
            "application/vnd.google.colaboratory.intrinsic+json": {
              "type": "dataframe",
              "variable_name": "customer_ticket_df",
              "summary": "{\n  \"name\": \"customer_ticket_df\",\n  \"rows\": 8469,\n  \"fields\": [\n    {\n      \"column\": \"Ticket ID\",\n      \"properties\": {\n        \"dtype\": \"number\",\n        \"std\": 2444,\n        \"min\": 1,\n        \"max\": 8469,\n        \"num_unique_values\": 8469,\n        \"samples\": [\n          4831,\n          7076,\n          4716\n        ],\n        \"semantic_type\": \"\",\n        \"description\": \"\"\n      }\n    },\n    {\n      \"column\": \"Customer Name\",\n      \"properties\": {\n        \"dtype\": \"string\",\n        \"num_unique_values\": 8028,\n        \"samples\": [\n          \"William Roberts\",\n          \"Jonathan Wilson\",\n          \"Devin Donovan\"\n        ],\n        \"semantic_type\": \"\",\n        \"description\": \"\"\n      }\n    },\n    {\n      \"column\": \"Customer Email\",\n      \"properties\": {\n        \"dtype\": \"string\",\n        \"num_unique_values\": 8320,\n        \"samples\": [\n          \"dcollier@example.com\",\n          \"loriwatts@example.org\",\n          \"fhoward@example.com\"\n        ],\n        \"semantic_type\": \"\",\n        \"description\": \"\"\n      }\n    },\n    {\n      \"column\": \"Customer Age\",\n      \"properties\": {\n        \"dtype\": \"number\",\n        \"std\": 15,\n        \"min\": 18,\n        \"max\": 70,\n        \"num_unique_values\": 53,\n        \"samples\": [\n          35,\n          29,\n          45\n        ],\n        \"semantic_type\": \"\",\n        \"description\": \"\"\n      }\n    },\n    {\n      \"column\": \"Customer Gender\",\n      \"properties\": {\n        \"dtype\": \"category\",\n        \"num_unique_values\": 3,\n        \"samples\": [\n          \"Other\",\n          \"Female\",\n          \"Male\"\n        ],\n        \"semantic_type\": \"\",\n        \"description\": \"\"\n      }\n    },\n    {\n      \"column\": \"Product Purchased\",\n      \"properties\": {\n        \"dtype\": \"category\",\n        \"num_unique_values\": 42,\n        \"samples\": [\n          \"PlayStation\",\n          \"Sony PlayStation\",\n          \"Dyson Vacuum Cleaner\"\n        ],\n        \"semantic_type\": \"\",\n        \"description\": \"\"\n      }\n    },\n    {\n      \"column\": \"Date of Purchase\",\n      \"properties\": {\n        \"dtype\": \"object\",\n        \"num_unique_values\": 730,\n        \"samples\": [\n          \"2021-03-29\",\n          \"2021-05-21\",\n          \"2020-12-23\"\n        ],\n        \"semantic_type\": \"\",\n        \"description\": \"\"\n      }\n    },\n    {\n      \"column\": \"Ticket Status\",\n      \"properties\": {\n        \"dtype\": \"category\",\n        \"num_unique_values\": 3,\n        \"samples\": [\n          \"Pending Customer Response\",\n          \"Closed\",\n          \"Open\"\n        ],\n        \"semantic_type\": \"\",\n        \"description\": \"\"\n      }\n    },\n    {\n      \"column\": \"Ticket Priority\",\n      \"properties\": {\n        \"dtype\": \"category\",\n        \"num_unique_values\": 4,\n        \"samples\": [\n          \"Low\",\n          \"Medium\",\n          \"Critical\"\n        ],\n        \"semantic_type\": \"\",\n        \"description\": \"\"\n      }\n    },\n    {\n      \"column\": \"Ticket Channel\",\n      \"properties\": {\n        \"dtype\": \"category\",\n        \"num_unique_values\": 4,\n        \"samples\": [\n          \"Chat\",\n          \"Phone\",\n          \"Social media\"\n        ],\n        \"semantic_type\": \"\",\n        \"description\": \"\"\n      }\n    },\n    {\n      \"column\": \"Text_content\",\n      \"properties\": {\n        \"dtype\": \"string\",\n        \"num_unique_values\": 8199,\n        \"samples\": [\n          \"Address main civil character travel film. I'm having an issue with the {product_purchased}. Please assist.\\n\\nYou can also ask how you like the 'customisable' or 'customised' UI (which includes colour and padding), such as the 'customise I'm worried that the issue might be hardware-related and might require repair or replacement.\",\n          \"Develop effort bank task thousand door believe. I'm having an issue with the {product_purchased}. Please assist.\\n\\n5.2.3 * Update for latest 3.6.2, 5.0.1, 5.2.1 and 5.3. I've tried troubleshooting steps mentioned in the user manual, but the issue persists.\",\n          \" I'm having an issue with the {product_purchased}. Please assist. */\\n\\n}\\n\\nelse if ( is_custom_custom_value ()? $. name_value_item_name : \\\" custom \\\" ) { I'm concerned about the security of my {product_purchased} and would like to ensure that my data is safe.\"\n        ],\n        \"semantic_type\": \"\",\n        \"description\": \"\"\n      }\n    }\n  ]\n}"
            }
          },
          "metadata": {},
          "execution_count": 332
        }
      ]
    },
    {
      "source": [],
      "cell_type": "code",
      "execution_count": 332,
      "outputs": [],
      "metadata": {
        "id": "PU9tuGhpe1Mj"
      }
    },
    {
      "cell_type": "markdown",
      "source": [
        "## **Data Visualization**"
      ],
      "metadata": {
        "id": "ZTldaT_fdfvy"
      }
    },
    {
      "cell_type": "code",
      "source": [
        "# Product Purchased vs Ticket Channel\n",
        "\n",
        "customer_ticket_df.groupby(['Product Purchased', 'Ticket Channel'])['Ticket ID'].count().unstack().plot(kind='bar', stacked=True)"
      ],
      "metadata": {
        "colab": {
          "base_uri": "https://localhost:8080/",
          "height": 669
        },
        "id": "Fw9pxzvHfefb",
        "outputId": "2f9cc8e5-e8c2-47a4-8a31-b0a31c2f3a7e"
      },
      "execution_count": 333,
      "outputs": [
        {
          "output_type": "execute_result",
          "data": {
            "text/plain": [
              "<Axes: xlabel='Product Purchased'>"
            ]
          },
          "metadata": {},
          "execution_count": 333
        },
        {
          "output_type": "display_data",
          "data": {
            "text/plain": [
              "<Figure size 640x480 with 1 Axes>"
            ],
            "image/png": "[encoded data removed]"
          },
          "metadata": {}
        }
      ]
    },
    {
      "cell_type": "code",
      "source": [
        "# Customer Gender Distribution\n",
        "\n",
        "customer_ticket_df.groupby('Customer Gender').size().plot(kind='barh', color=sns.palettes.mpl_palette('Dark2'))\n",
        "plt.gca().spines[['top', 'right',]].set_visible(False)"
      ],
      "metadata": {
        "colab": {
          "base_uri": "https://localhost:8080/",
          "height": 430
        },
        "id": "EOHWZliTdepE",
        "outputId": "4e44012a-bb28-4abb-a324-b6d6f3786b28"
      },
      "execution_count": 334,
      "outputs": [
        {
          "output_type": "display_data",
          "data": {
            "text/plain": [
              "<Figure size 640x480 with 1 Axes>"
            ],
            "image/png": "[encoded data removed]"
          },
          "metadata": {}
        }
      ]
    },
    {
      "cell_type": "code",
      "source": [
        "# Customer Age Distribution\n",
        "\n",
        "customer_ticket_df['Customer Age'].plot(kind='hist', bins=20, title='Customer Age')\n",
        "plt.gca().spines[['top', 'right',]].set_visible(False)"
      ],
      "metadata": {
        "colab": {
          "base_uri": "https://localhost:8080/",
          "height": 452
        },
        "id": "MLRxwwSIde-0",
        "outputId": "9b50483a-0615-493d-cf80-2c0e5e62f74b"
      },
      "execution_count": 335,
      "outputs": [
        {
          "output_type": "display_data",
          "data": {
            "text/plain": [
              "<Figure size 640x480 with 1 Axes>"
            ],
            "image/png": "[encoded data removed]"
          },
          "metadata": {}
        }
      ]
    },
    {
      "cell_type": "markdown",
      "source": [
        "## **Introducing Topic Label**"
      ],
      "metadata": {
        "id": "VJrmK7Ihfl3v"
      }
    },
    {
      "cell_type": "markdown",
      "source": [
        "**Adding topic to dataset based on text content using LDA**"
      ],
      "metadata": {
        "id": "tAErJavNy9O9"
      }
    },
    {
      "cell_type": "code",
      "source": [
        "# using tfidf to convert word to vector\n",
        "tfidf_vectorizer = TfidfVectorizer(max_df=0.95, min_df=2, stop_words='english')\n",
        "tfidf = tfidf_vectorizer.fit_transform(customer_ticket_df['Text_content'])\n",
        "\n",
        "# Fit LDA model\n",
        "lda_model = LatentDirichletAllocation(n_components=50, random_state=42)\n",
        "lda_output = lda_model.fit_transform(tfidf)"
      ],
      "metadata": {
        "id": "NrO5bznjvSt3"
      },
      "execution_count": 336,
      "outputs": []
    },
    {
      "cell_type": "code",
      "source": [
        "# Get the topic for each row\n",
        "topics = lda_model.components_ / lda_model.components_.sum(axis=1)[:, np.newaxis]\n",
        "topic_words = [[tfidf_vectorizer.get_feature_names_out()[i] for i in topic.argsort()[:-10 - 1:-1]] for topic in topics]\n",
        "\n",
        "# Add the topic to the dataframe\n",
        "customer_ticket_df['Topic'] = lda_output.argmax(axis=1)\n",
        "\n",
        "# Print the topics\n",
        "for i, topic in enumerate(topic_words):\n",
        "  print(f\"Topic {i+1}: {', '.join(topic)}\")"
      ],
      "metadata": {
        "colab": {
          "base_uri": "https://localhost:8080/"
        },
        "id": "XofSRl2G3S8S",
        "outputId": "1ed4fbf3-8047-457d-b376-88ab087b01e7"
      },
      "execution_count": 337,
      "outputs": [
        {
          "output_type": "stream",
          "name": "stdout",
          "text": [
            "Topic 1: shipping, choose, instructions, follow, refer, idea, program, wall, congress, black\n",
            "Topic 2: longer, life, used, battery, decrease, sudden, website, official, reviewed, cache\n",
            "Topic 3: wrong, request, month, transaction, sent, asked, sit, form, goes, company\n",
            "Topic 4: return, click, select, button, condition, rate, cancel, weeks, image, guy\n",
            "Topic 5: feel, free, turn, end, agree, mail, requests, warranty, required, response\n",
            "Topic 6: sign, months, cost, needs, aware, existing, stock, minutes, 100, science\n",
            "Topic 7: flickering, screen, hardware, use, unable, problem, article, removed, menu, asking\n",
            "Topic 8: strange, noises, functioning, suspect, internet, connection, establish, network, stable, disconnecting\n",
            "Topic 9: card, gift, buying, function, point, ship, replace, credit, bought, today\n",
            "Topic 10: updates, checked, software, version, latest, running, available, ve, assist, having\n",
            "Topic 11: mean, user, mentioned, message, manual, does, popping, error_message, peculiar, error\n",
            "Topic 12: fixes, crashes, encountering, bug, try, application, updates, specific, available, action\n",
            "Topic 13: app, errors, causing, unexpected, bug, loss, data, resolve, noticed, software\n",
            "Topic 14: particular, exactly, source, prevent, situation, kind, 95, build, concern, score\n",
            "Topic 15: deleted, important, accidentally, urgently, files, way, recover, data, need, ve\n",
            "Topic 16: days, place, sale, purchasing, allow, brand, shipped, box, marked, understanding\n",
            "Topic 17: daily, tasks, heavily, hindering, rely, productivity, issue, assist, having, product\n",
            "Topic 18: problems, similar, reported, sure, specific, device, issue, assist, having, product\n",
            "Topic 19: online, far, community, forums, luck, tutorials, followed, troubleshoot, issue, ve\n",
            "Topic 20: play, placed, game, given, 24, resource, 39, future, believe, dream\n",
            "Topic 21: url, delete, purchases, include, services, previous, reviews, server, property, restart\n",
            "Topic 22: div, class, 000, hear, close, hard, 2013, id, represent, api\n",
            "Topic 23: solution, difficult, glitch, frequently, provide, freezes, making, use, software, thanks\n",
            "Topic 24: understand, view, enable, comments, javascript, explain, video, github, powered, disqus\n",
            "Topic 25: set, connect, fails, networks, recently, troubleshoot, available, steps, ve, issue\n",
            "Topic 26: 99, second, 29, quickly, faq, happens, 49, usd, chance, employee\n",
            "Topic 27: com, https, www, http, install, remove, etsy, windows, android, exist\n",
            "Topic 28: settings, correctly, configured, sure, checked, device, ve, 12, assist, having\n",
            "Topic 29: connecting, home, trouble, wi, detect, fi, network, devices, networks, doesn\n",
            "Topic 30: updated, happening, firmware, afterward, recently, related, started, update, issue, ve\n",
            "Topic 31: account, locked, unlock, logging, issues, says, facing, log, span, ordered\n",
            "Topic 32: original, came, charging, charger, properly, respond, yesterday, turning, using, working\n",
            "Topic 33: soon, work, assistance, possible, affecting, productivity, need, assist, having, issue\n",
            "Topic 34: desired, option, guide, action, perform, unable, steps, assist, having, issue\n",
            "Topic 35: said, expand, wanted, easy, true, bring, deal, click, spring, copy\n",
            "Topic 36: reason, included, package, fact, series, young, drop, returned, pack, state\n",
            "Topic 37: lost, data, stored, crashed, way, recover, doing, mrs, marketplace, processed\n",
            "Topic 38: figure, 50, friends, leave, example, 25, person, configurations, mobile, includes\n",
            "Topic 39: works, intermittent, acts, unexpectedly, fine, facing, times, issue, assist, having\n",
            "Topic 40: access, account, login, correct, invalid, credentials, regain, displaying, information, keeps\n",
            "Topic 41: retrieve, documents, encountered, disappeared, files, loss, guide, data, ve, br\n",
            "Topic 42: amazon, retailer, apple, commercial, professional, enjoy, rise, miss, care, domain\n",
            "Topic 43: feature, replacement, require, occurs, repair, consistently, worried, application, issue, specific\n",
            "Topic 44: different, tried, persists, adapters, peripherals, cables, using, issue, ve, having\n",
            "Topic 45: password, account, forgotten, recover, reset, working, option, ve, apologize, inconvenience\n",
            "Topic 46: contacted, unresolved, remains, customer, multiple, support, times, issue, ve, assist\n",
            "Topic 47: 00, title, left, maybe, prices, product_price, coupon, boy, bad, market\n",
            "Topic 48: factory, hoping, performed, problem, reset, didn, help, resolve, model, experiencing\n",
            "Topic 49: haven, changes, recent, occurring, started, update, device, software, problem, assist\n",
            "Topic 50: safe, ensure, security, concerned, like, data, assist, having, issue, product\n"
          ]
        }
      ]
    },
    {
      "cell_type": "code",
      "source": [
        "# Storing Topic Glossary in the folder\n",
        "topic_glossary = [(f\"Topic {i+1}\", ', '.join(topic)) for i, topic in enumerate(topic_words)]\n",
        "\n",
        "df = pd.DataFrame(topic_glossary, columns=['Topic', 'Keywords'])\n",
        "df.to_csv('/content/drive/MyDrive/UpGrad/Customer Support Ticket Classification/topic_glossary.csv', index=False)\n"
      ],
      "metadata": {
        "id": "wrks6QJnXJWe"
      },
      "execution_count": 338,
      "outputs": []
    },
    {
      "cell_type": "code",
      "source": [
        "# Storing customer ticket dataframe in the folder\n",
        "customer_ticket_df.to_csv('/content/drive/MyDrive/UpGrad/Customer Support Ticket Classification/customer_ticket_df_2.csv')"
      ],
      "metadata": {
        "id": "o53fwSWX_YW1"
      },
      "execution_count": 339,
      "outputs": []
    },
    {
      "cell_type": "markdown",
      "source": [
        "**Splitting the dataset into train and test**"
      ],
      "metadata": {
        "id": "OJ5A3VUx4oS3"
      }
    },
    {
      "cell_type": "code",
      "source": [
        "# Seperating Target column with the feature column\n",
        "\n",
        "y = customer_ticket_df.pop('Topic')\n",
        "X = customer_ticket_df['Text_content']"
      ],
      "metadata": {
        "id": "MezwYV8N6rvL"
      },
      "execution_count": 340,
      "outputs": []
    },
    {
      "cell_type": "code",
      "source": [
        "X_train, X_test, y_train, y_test = train_test_split(X, y, test_size=0.3, random_state=50)"
      ],
      "metadata": {
        "id": "vkky5T2Y2ZaB"
      },
      "execution_count": 341,
      "outputs": []
    },
    {
      "cell_type": "markdown",
      "source": [
        "# **Model Building**"
      ],
      "metadata": {
        "id": "Ytr44TgPYdZF"
      }
    },
    {
      "cell_type": "markdown",
      "source": [
        "**Using RandomForest classifier to build the supervised classification model**"
      ],
      "metadata": {
        "id": "0eG8ft9JYiaR"
      }
    },
    {
      "cell_type": "code",
      "source": [
        "#Building a randomforrest classifier model\n",
        "\n",
        "tfidf_vectorizer = TfidfVectorizer()\n",
        "X_train_tfidf = tfidf_vectorizer.fit_transform(X_train)\n",
        "X_test_tfidf = tfidf_vectorizer.transform(X_test)\n",
        "\n",
        "# Create a random forest classifier model\n",
        "clf = RandomForestClassifier(n_estimators=100, random_state=42)\n",
        "\n",
        "# Fit the model to the training data\n",
        "clf.fit(X_train_tfidf, y_train)\n",
        "\n",
        "# Evaluate the model on the test data\n",
        "y_pred = clf.predict(X_test_tfidf)\n",
        "print(\"Test Accuracy Score: \", round(accuracy_score(y_test, y_pred)*100,2))\n",
        "\n",
        "print(classification_report(y_test, y_pred))"
      ],
      "metadata": {
        "colab": {
          "base_uri": "https://localhost:8080/"
        },
        "id": "y4sw6plp-OBz",
        "outputId": "e6dd789c-ae4d-4bde-b054-0694799e7028"
      },
      "execution_count": 342,
      "outputs": [
        {
          "output_type": "stream",
          "name": "stdout",
          "text": [
            "Test Accuracy Score:  83.2\n",
            "              precision    recall  f1-score   support\n",
            "\n",
            "           0       0.00      0.00      0.00         6\n",
            "           1       0.87      0.93      0.90       159\n",
            "           2       0.00      0.00      0.00         5\n",
            "           3       0.00      0.00      0.00        13\n",
            "           4       0.00      0.00      0.00        17\n",
            "           5       0.00      0.00      0.00         6\n",
            "           6       0.43      0.20      0.27        15\n",
            "           7       0.91      0.89      0.90        96\n",
            "           8       0.00      0.00      0.00         5\n",
            "           9       0.61      0.84      0.71        70\n",
            "          10       0.86      0.95      0.90       208\n",
            "          11       0.95      0.87      0.91        68\n",
            "          12       0.92      0.94      0.93        49\n",
            "          13       0.00      0.00      0.00         6\n",
            "          14       0.92      0.96      0.94        51\n",
            "          15       0.00      0.00      0.00         6\n",
            "          16       0.86      0.92      0.89        53\n",
            "          17       0.78      0.82      0.80        55\n",
            "          18       0.84      0.75      0.79        64\n",
            "          19       0.00      0.00      0.00         4\n",
            "          20       0.00      0.00      0.00         3\n",
            "          21       0.00      0.00      0.00         6\n",
            "          22       0.96      0.92      0.94        52\n",
            "          23       0.00      0.00      0.00         9\n",
            "          24       0.81      0.83      0.82        47\n",
            "          25       0.00      0.00      0.00         5\n",
            "          26       0.00      0.00      0.00         8\n",
            "          27       0.55      0.57      0.56        74\n",
            "          28       1.00      0.98      0.99        58\n",
            "          29       0.83      0.89      0.86        88\n",
            "          30       0.89      0.82      0.86        40\n",
            "          31       0.76      0.82      0.79        89\n",
            "          32       0.87      0.91      0.89       107\n",
            "          33       0.78      0.90      0.84        89\n",
            "          34       0.00      0.00      0.00         8\n",
            "          35       0.00      0.00      0.00         5\n",
            "          36       0.72      0.91      0.81        32\n",
            "          37       0.00      0.00      0.00        17\n",
            "          38       0.81      0.91      0.86        92\n",
            "          39       1.00      0.97      0.98        58\n",
            "          40       0.94      0.92      0.93        48\n",
            "          41       0.00      0.00      0.00         5\n",
            "          42       0.86      0.94      0.90        89\n",
            "          43       0.78      0.84      0.81        63\n",
            "          44       0.95      0.89      0.92        44\n",
            "          45       0.81      0.87      0.84        93\n",
            "          46       0.00      0.00      0.00        10\n",
            "          47       0.85      0.88      0.87       156\n",
            "          48       0.78      0.89      0.83        93\n",
            "          49       0.83      0.91      0.87        97\n",
            "\n",
            "    accuracy                           0.83      2541\n",
            "   macro avg       0.51      0.53      0.52      2541\n",
            "weighted avg       0.79      0.83      0.81      2541\n",
            "\n"
          ]
        }
      ]
    },
    {
      "cell_type": "code",
      "source": [
        "# Caculate precision and recall for the model\n",
        "\n",
        "precision = precision_score(y_test, y_pred, average='weighted')\n",
        "recall = recall_score(y_test, y_pred, average='weighted')\n",
        "\n",
        "print(\"Precision:\", precision)\n",
        "print(\"Recall:\", recall)"
      ],
      "metadata": {
        "colab": {
          "base_uri": "https://localhost:8080/"
        },
        "id": "0e_PJBhxKfDL",
        "outputId": "ebb17a4f-619a-43da-9232-5c7b6006f30b"
      },
      "execution_count": 343,
      "outputs": [
        {
          "output_type": "stream",
          "name": "stdout",
          "text": [
            "Precision: 0.789422810955193\n",
            "Recall: 0.8319559228650137\n"
          ]
        }
      ]
    },
    {
      "cell_type": "code",
      "source": [
        "# Storing customer ticket classification report in the folder\n",
        "\n",
        "report_df = pd.DataFrame(classification_report(y_test, y_pred, output_dict=True)).transpose()\n",
        "report_df.to_csv('/content/drive/MyDrive/UpGrad/Customer Support Ticket Classification/classification_report.csv')"
      ],
      "metadata": {
        "id": "LCh7Q5_gDUZV"
      },
      "execution_count": 344,
      "outputs": []
    },
    {
      "cell_type": "code",
      "source": [
        "# Create a confusion matrix\n",
        "cm = confusion_matrix(y_test, y_pred)\n",
        "\n",
        "# Plot the confusion matrix\n",
        "plt.figure(figsize=(10, 8))\n",
        "sns.heatmap(cm, annot=True, fmt='d', cmap='Blues')\n",
        "plt.xlabel('Predicted Topic')\n",
        "plt.ylabel('Actual Topic')\n",
        "plt.title('Confusion Matrix')\n",
        "plt.show()\n"
      ],
      "metadata": {
        "colab": {
          "base_uri": "https://localhost:8080/",
          "height": 718
        },
        "id": "ml7q9iRbDr8Z",
        "outputId": "4a294ca8-9775-488d-e01b-1548e470df7e"
      },
      "execution_count": 345,
      "outputs": [
        {
          "output_type": "display_data",
          "data": {
            "text/plain": [
              "<Figure size 1000x800 with 2 Axes>"
            ],
            "image/png": "[encoded data removed]"
          },
          "metadata": {}
        }
      ]
    },
    {
      "cell_type": "markdown",
      "source": [
        "## **Testing Model on single Input**"
      ],
      "metadata": {
        "id": "TMaABUGxc94K"
      }
    },
    {
      "cell_type": "markdown",
      "source": [
        "**Predict the topic based on unknown ticket description**"
      ],
      "metadata": {
        "id": "-xtkxddpcFyB"
      }
    },
    {
      "cell_type": "code",
      "source": [
        "# Define a function which take single ticket infomoration and predict the topic label\n",
        "\n",
        "def predict_ticket_topic(ticket_info):\n",
        "  \"\"\"\n",
        "  Predicts the topic of a customer support ticket.\n",
        "\n",
        "  Args:\n",
        "    ticket_info: A dictionary containing the ticket information.\n",
        "\n",
        "  Returns:\n",
        "    The predicted topic of the ticket.\n",
        "  \"\"\"\n",
        "\n",
        "  # Create a dataframe from the ticket information\n",
        "  ticket_df = pd.DataFrame([ticket_info])\n",
        "\n",
        "  # Extract the text content from the ticket\n",
        "  text_content = ticket_df['Text_content']\n",
        "\n",
        "  # Transform the text content using the TF-IDF vectorizer\n",
        "\n",
        "  X_test_tfidf = tfidf_vectorizer.transform(ticket_df['Text_content'])\n",
        "\n",
        "  # Predict the topic using the random forest classifier\n",
        "  topic = clf.predict(X_test_tfidf)[0]\n",
        "\n",
        "  # Predict the topic of the ticket\n",
        "  topic = clf.predict(X_test_tfidf)[0]\n",
        "\n",
        "  return topic\n"
      ],
      "metadata": {
        "id": "TtvWSKtsWUKV"
      },
      "execution_count": 346,
      "outputs": []
    },
    {
      "cell_type": "code",
      "source": [
        "# Calling the function to predict the topic\n",
        "inp = {'Text_content': \"I'm having an issue with the {product_purchased}. Please assist. I don't think a product is in the same category as an {product_purchased}, as it wouldn't have been the issue in the case of the I've noticed that the issue occurs consistently when I use a specific feature or application on my {product_purchased}.\"}\n",
        "predict_ticket_topic(inp)"
      ],
      "metadata": {
        "colab": {
          "base_uri": "https://localhost:8080/"
        },
        "id": "ezUMdcyxZBDv",
        "outputId": "6fde9d5b-33f5-429d-dea1-94151f5877be"
      },
      "execution_count": 347,
      "outputs": [
        {
          "output_type": "execute_result",
          "data": {
            "text/plain": [
              "42"
            ]
          },
          "metadata": {},
          "execution_count": 347
        }
      ]
    }
  ]
}